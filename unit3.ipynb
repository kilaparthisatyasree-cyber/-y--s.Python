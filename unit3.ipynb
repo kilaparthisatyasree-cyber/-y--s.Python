{
  "nbformat": 4,
  "nbformat_minor": 0,
  "metadata": {
    "colab": {
      "provenance": [],
      "authorship_tag": "ABX9TyO7JM7t9b+EecqrFFDy+ph+",
      "include_colab_link": true
    },
    "kernelspec": {
      "name": "python3",
      "display_name": "Python 3"
    },
    "language_info": {
      "name": "python"
    }
  },
  "cells": [
    {
      "cell_type": "markdown",
      "metadata": {
        "id": "view-in-github",
        "colab_type": "text"
      },
      "source": [
        "<a href=\"https://colab.research.google.com/github/kilaparthisatyasree-cyber/-y--s.Python/blob/main/unit3.ipynb\" target=\"_parent\"><img src=\"https://colab.research.google.com/assets/colab-badge.svg\" alt=\"Open In Colab\"/></a>"
      ]
    },
    {
      "cell_type": "code",
      "execution_count": 4,
      "metadata": {
        "colab": {
          "base_uri": "https://localhost:8080/"
        },
        "id": "_Azgt-bSQ8Na",
        "outputId": "c82dcad2-55ab-488f-f6ba-09364ffbd19c"
      },
      "outputs": [
        {
          "output_type": "stream",
          "name": "stdout",
          "text": [
            "Array:\n",
            " [[10 25 30]\n",
            " [45 50 60]\n",
            " [ 5 75 20]]\n",
            "\n",
            "Maximum value: 75\n",
            "Index of maximum value: 7\n",
            "\n",
            "Minimum value: 5\n",
            "Index of minimum value: 6\n",
            "\n",
            "Index of maximum values along axis=0 (columns): [1 2 1]\n",
            "Index of maximum values along axis=1 (rows): [2 2 1]\n"
          ]
        }
      ],
      "source": [
        "import numpy as np\n",
        "\n",
        "# Create a 2D array\n",
        "arr = np.array([[10, 25, 30],\n",
        "                [45, 50, 60],\n",
        "                [5, 75, 20]])\n",
        "\n",
        "print(\"Array:\\n\", arr)\n",
        "\n",
        "# Find maximum and minimum values\n",
        "max_value = np.max(arr)\n",
        "min_value = np.min(arr)\n",
        "\n",
        "# Find indices of maximum and minimum values (flattened array)\n",
        "max_index = np.argmax(arr)\n",
        "min_index = np.argmin(arr)\n",
        "\n",
        "print(\"\\nMaximum value:\", max_value)\n",
        "print(\"Index of maximum value:\", max_index)\n",
        "\n",
        "print(\"\\nMinimum value:\", min_value)\n",
        "print(\"Index of minimum value:\", min_index)\n",
        "\n",
        "# Indices along axis (row-wise and column-wise)\n",
        "print(\"\\nIndex of maximum values along axis=0 (columns):\", np.argmax(arr, axis=0))\n",
        "print(\"Index of maximum values along axis=1 (rows):\", np.argmax(arr, axis=1))\n"
      ]
    },
    {
      "cell_type": "code",
      "source": [
        "# Program (b): To test whether none of the elements of a given array is zero\n",
        "import numpy as np\n",
        "\n",
        "# Create an array\n",
        "arr = np.array([1, 2, 3, 4, 5])\n",
        "\n",
        "# Check if none of the elements are zero using np.all()\n",
        "result = np.all(arr)\n",
        "\n",
        "# Display the result\n",
        "print(\"Array:\", arr)\n",
        "print(\"None of the elements are zero:\", result)\n"
      ],
      "metadata": {
        "colab": {
          "base_uri": "https://localhost:8080/"
        },
        "id": "dJXlRMIHRIJC",
        "outputId": "72aaee82-04bf-46dd-cf03-74533d848ae2"
      },
      "execution_count": 3,
      "outputs": [
        {
          "output_type": "stream",
          "name": "stdout",
          "text": [
            "Array: [1 2 3 4 5]\n",
            "None of the elements are zero: True\n"
          ]
        }
      ]
    },
    {
      "cell_type": "code",
      "source": [
        "# Program (c): To perform element-wise comparison of two arrays\n",
        "import numpy as np\n",
        "\n",
        "# Create two arrays\n",
        "x = np.array([2, 5, 8, 10])\n",
        "y = np.array([3, 5, 7, 10])\n",
        "\n",
        "print(\"Array x:\", x)\n",
        "print(\"Array y:\", y)\n",
        "\n",
        "# Element-wise comparisons\n",
        "print(\"\\nGreater (x > y):\")\n",
        "print(np.greater(x, y))\n",
        "\n",
        "print(\"\\nGreater Equal (x >= y):\")\n",
        "print(np.greater_equal(x, y))\n",
        "\n",
        "print(\"\\nLess (x < y):\")\n",
        "print(np.less(x, y))\n",
        "\n",
        "print(\"\\nLess Equal (x <= y):\")\n",
        "print(np.less_equal(x, y))\n",
        "\n",
        "print(\"\\nEqual (x == y):\")\n",
        "print(np.equal(x, y))\n",
        "\n",
        "print(\"\\nEqual within tolerance (np.allclose):\")\n",
        "print(np.allclose(x, y, atol=1))\n"
      ],
      "metadata": {
        "colab": {
          "base_uri": "https://localhost:8080/"
        },
        "id": "d1602t5ERNqW",
        "outputId": "898c095d-bde4-4b23-b50c-7573b7136a30"
      },
      "execution_count": 2,
      "outputs": [
        {
          "output_type": "stream",
          "name": "stdout",
          "text": [
            "Array x: [ 2  5  8 10]\n",
            "Array y: [ 3  5  7 10]\n",
            "\n",
            "Greater (x > y):\n",
            "[False False  True False]\n",
            "\n",
            "Greater Equal (x >= y):\n",
            "[False  True  True  True]\n",
            "\n",
            "Less (x < y):\n",
            "[ True False False False]\n",
            "\n",
            "Less Equal (x <= y):\n",
            "[ True  True False  True]\n",
            "\n",
            "Equal (x == y):\n",
            "[False  True False  True]\n",
            "\n",
            "Equal within tolerance (np.allclose):\n",
            "True\n"
          ]
        }
      ]
    },
    {
      "cell_type": "code",
      "source": [
        "import numpy as np\n",
        "\n",
        "# Scalar addition\n",
        "np.add(1.0, 4.0)\n",
        "# Output: 5.0\n",
        "\n",
        "# Array addition\n",
        "x1 = np.arange(9.0).reshape((3, 3))\n",
        "x2 = np.arange(3.0)\n",
        "np.add(x1, x2)\n",
        "# Output:\n",
        "# array([[ 0.,  2.,  4.],\n",
        "#        [ 3.,  5.,  7.],\n",
        "#        [ 6.,  8., 10.]])\n",
        "\n",
        "# Using '+' operator (shorthand for np.add)\n",
        "x1 + x2\n",
        "# Output same as np.add"
      ],
      "metadata": {
        "colab": {
          "base_uri": "https://localhost:8080/"
        },
        "id": "SK372DilRWQ8",
        "outputId": "bc17b995-97f4-440f-8c32-8edfad327596"
      },
      "execution_count": 1,
      "outputs": [
        {
          "output_type": "execute_result",
          "data": {
            "text/plain": [
              "array([[ 0.,  2.,  4.],\n",
              "       [ 3.,  5.,  7.],\n",
              "       [ 6.,  8., 10.]])"
            ]
          },
          "metadata": {},
          "execution_count": 1
        }
      ]
    },
    {
      "cell_type": "code",
      "source": [],
      "metadata": {
        "id": "xkXAl51tRV5b"
      },
      "execution_count": null,
      "outputs": []
    }
  ]
}