{
  "nbformat": 4,
  "nbformat_minor": 0,
  "metadata": {
    "colab": {
      "provenance": [],
      "authorship_tag": "ABX9TyOk5F7hM5+Kx9mle+YlUYIu",
      "include_colab_link": true
    },
    "kernelspec": {
      "name": "python3",
      "display_name": "Python 3"
    },
    "language_info": {
      "name": "python"
    }
  },
  "cells": [
    {
      "cell_type": "markdown",
      "metadata": {
        "id": "view-in-github",
        "colab_type": "text"
      },
      "source": [
        "<a href=\"https://colab.research.google.com/github/kilaparthisatyasree-cyber/-y--s.Python/blob/main/Untitled3.ipynb\" target=\"_parent\"><img src=\"https://colab.research.google.com/assets/colab-badge.svg\" alt=\"Open In Colab\"/></a>"
      ]
    },
    {
      "cell_type": "code",
      "execution_count": null,
      "metadata": {
        "id": "t2nmEzYdAsm1"
      },
      "outputs": [],
      "source": [
        "import pandas as pd\n",
        "import matplotlib.pyplot as plt\n",
        "\n",
        "# Sample DataFrame\n",
        "exam_data = {\n",
        "    'name': ['Annie', 'Bob', 'Cathy', 'David', 'Ella'],\n",
        "    'score': [88, 76, 92, 85, 79]\n",
        "}\n",
        "\n",
        "df = pd.DataFrame(exam_data)\n",
        "\n",
        "# Create horizontal bar plot\n",
        "plt.barh(df['name'], df['score'], color='skyblue')\n",
        "\n",
        "# Add title and labels\n",
        "plt.title(\"Students' Exam Scores\", fontsize=14, color='darkblue')\n",
        "plt.xlabel(\"Scores\", fontsize=12)\n",
        "plt.ylabel(\"Names\", fontsize=12)\n",
        "\n",
        "# Display the plot\n",
        "plt.show()"
      ]
    }
  ]
}