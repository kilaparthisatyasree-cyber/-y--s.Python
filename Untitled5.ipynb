{
  "nbformat": 4,
  "nbformat_minor": 0,
  "metadata": {
    "colab": {
      "provenance": [],
      "authorship_tag": "ABX9TyOw8y59px9WhP+JZEl5aN5Q",
      "include_colab_link": true
    },
    "kernelspec": {
      "name": "python3",
      "display_name": "Python 3"
    },
    "language_info": {
      "name": "python"
    }
  },
  "cells": [
    {
      "cell_type": "markdown",
      "metadata": {
        "id": "view-in-github",
        "colab_type": "text"
      },
      "source": [
        "<a href=\"https://colab.research.google.com/github/kilaparthisatyasree-cyber/-y--s.Python/blob/main/Untitled5.ipynb\" target=\"_parent\"><img src=\"https://colab.research.google.com/assets/colab-badge.svg\" alt=\"Open In Colab\"/></a>"
      ]
    },
    {
      "cell_type": "code",
      "execution_count": null,
      "metadata": {
        "id": "jDAqemscBXuP"
      },
      "outputs": [],
      "source": [
        "import numpy as np\n",
        "\n",
        "# Generate a single random float\n",
        "random_float = np.random.rand()\n",
        "print(f\"Single random float: {random_float}\")\n",
        "\n",
        "# Generate a 1D array of 5 random floats\n",
        "random_array_1d = np.random.rand(5)\n",
        "print(f\"1D array of random floats: {random_array_1d}\")\n",
        "\n",
        "# Generate a 2D array (3 rows, 2 columns) of random floats\n",
        "random_array_2d = np.random.rand(3, 2)\n",
        "print(f\"2D array of random floats:\\n{random_array_2d}\")"
      ]
    }
  ]
}